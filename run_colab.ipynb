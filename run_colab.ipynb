{
  "nbformat": 4,
  "nbformat_minor": 0,
  "metadata": {
    "colab": {
      "name": "Untitled5.ipynb",
      "provenance": []
    },
    "kernelspec": {
      "name": "python3",
      "display_name": "Python 3"
    }
  },
  "cells": [
    {
      "cell_type": "code",
      "metadata": {
        "id": "xI_OQkk-ssqC"
      },
      "source": [
        "# IMDB daaset download\n",
        "%%shell\n",
        "unzip \"/content/drive/My Drive/Master_Final_Project/Genetic_attack/Code/nlp_adversarial_example_master_pytorch/imdb.zip\""
      ],
      "execution_count": null,
      "outputs": []
    },
    {
      "cell_type": "code",
      "metadata": {
        "id": "yLis4zcWswJO"
      },
      "source": [
        "#counter-fitted vectors download\n",
        "%%shell\n",
        "wget https://raw.githubusercontent.com/nmrksic/counter-fitting/master/word_vectors/counter-fitted-vectors.txt.zip\n",
        "unzip counter-fitted-vectors.txt.zip\n",
        "rm counter-fitted-vectors.txt.zip"
      ],
      "execution_count": null,
      "outputs": []
    },
    {
      "cell_type": "code",
      "metadata": {
        "id": "bAnylFJtswYa"
      },
      "source": [
        "%%shell\n",
        "#!/bin/bash\n",
        "wget http://nlp.stanford.edu/data/glove.6B.zip\n",
        "unzip glove.6B.zip\n",
        "# wget http://nlp.stanford.edu/data/glove.840B.300d.zip\n",
        "# unzip glove.840B.300d.zip\n",
        "rm glove.6B.zip"
      ],
      "execution_count": null,
      "outputs": []
    },
    {
      "cell_type": "code",
      "metadata": {
        "id": "B-iU89qMswa8"
      },
      "source": [
        "!git clone https://github.com/EthanCDD/TextFooler.git"
      ],
      "execution_count": null,
      "outputs": []
    },
    {
      "cell_type": "code",
      "metadata": {
        "id": "lHEUszYQswgh"
      },
      "source": [
        "# yelp daaset download\n",
        "%%shell\n",
        "unzip \"/content/drive/My Drive/Master_Final_Project/Genetic_attack/Code/nlp_adversarial_example_master_pytorch/yelp.zip\""
      ],
      "execution_count": null,
      "outputs": []
    },
    {
      "cell_type": "code",
      "metadata": {
        "id": "tV4QJuexeFE6"
      },
      "source": [
        "import sys\n",
        "sys.path.append('TextFooler')"
      ],
      "execution_count": null,
      "outputs": []
    },
    {
      "cell_type": "code",
      "metadata": {
        "id": "tUftLfaIy0As"
      },
      "source": [
        "%%shell\n",
        "cd TextFooler/ESIM\n",
        "python setup.py install\n",
        "cd .."
      ],
      "execution_count": null,
      "outputs": []
    },
    {
      "cell_type": "code",
      "metadata": {
        "id": "YPtQgq_ILASY"
      },
      "source": [
        "%%shell\n",
        "apt-get update && apt-get install libmysqlclient-dev"
      ],
      "execution_count": null,
      "outputs": []
    },
    {
      "cell_type": "code",
      "metadata": {
        "id": "dLQQA5AbyGpB"
      },
      "source": [
        "%%shell\n",
        "pip install mysqlclient"
      ],
      "execution_count": null,
      "outputs": []
    },
    {
      "cell_type": "code",
      "metadata": {
        "id": "hKSQnMj3J15G"
      },
      "source": [
        "%%shell\n",
        "wget https://files.pythonhosted.org/packages/1e/07/b0e61b6c818ed4b6145fe01d1c341223aa6cfbc3928538ad1f2b890924a3/Pattern-3.6.0.tar.gz\n",
        "tar -xvzf Pattern-3.6.0.tar.gz\n",
        "rm -f Pattern-3.6.0.tar.gz"
      ],
      "execution_count": null,
      "outputs": []
    },
    {
      "cell_type": "code",
      "metadata": {
        "id": "t-h4Sivb2uC5"
      },
      "source": [
        "%%shell\n",
        "cd Pattern-3.6\n",
        "python setup.py install"
      ],
      "execution_count": null,
      "outputs": []
    },
    {
      "cell_type": "code",
      "metadata": {
        "id": "WMmXCpsICqEO"
      },
      "source": [
        "%tensorflow_version 1.x"
      ],
      "execution_count": null,
      "outputs": []
    },
    {
      "cell_type": "markdown",
      "metadata": {
        "id": "8v3ci_WAtYKd"
      },
      "source": [
        "## Train"
      ]
    },
    {
      "cell_type": "code",
      "metadata": {
        "id": "qrsCldiLtZdw"
      },
      "source": [
        "# Train classifier (Maximum length could be changed)\n",
        "!python TextFooler/train_classifier.py --lstm --dataset=imdb --embedding=glove.6B.300d.txt --max_epoch=40 --d=128 --max_len=50"
      ],
      "execution_count": null,
      "outputs": []
    },
    {
      "cell_type": "code",
      "metadata": {
        "id": "5LtwCxz7tpTm"
      },
      "source": [
        "# Attack (Pre-trained classifier should be loaded so you need to check the file path of pre-trained classifier)\n",
        "%%shell\n",
        "python TextFooler/attack_classification.py --attack_len=250 --max_length=250 --dataset=imdb --target_model=wordLSTM --word_embeddings_path=glove.6B.300d.txt --counter_fitting_embeddings_path=counter-fitted-vectors.txt --USE_cache_path=TextFooler/output"
      ],
      "execution_count": null,
      "outputs": []
    }
  ]
}